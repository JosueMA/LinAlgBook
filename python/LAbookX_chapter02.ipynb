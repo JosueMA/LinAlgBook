{
 "cells": [
  {
   "cell_type": "markdown",
   "metadata": {},
   "source": [
    "#      BOOK: Linear Algebra: Theory, Intuition, Code\n",
    "####     AUTHOR: Mike X Cohen\n",
    "####    WEBSITE: sincxpress.com\n",
    "\n",
    "##    CHAPTER: Vectors (chapter 2)\n"
   ]
  },
  {
   "cell_type": "code",
   "execution_count": null,
   "metadata": {},
   "outputs": [],
   "source": [
    "## import libraries for the entire chapter\n",
    "import numpy as np\n",
    "import matplotlib.pyplot as plt"
   ]
  },
  {
   "cell_type": "markdown",
   "metadata": {},
   "source": [
    "### Section 2.1, code block 2.1"
   ]
  },
  {
   "cell_type": "code",
   "execution_count": null,
   "metadata": {},
   "outputs": [],
   "source": [
    "# creating scalars (numeric variables)\n",
    "aScalar = 4"
   ]
  },
  {
   "cell_type": "markdown",
   "metadata": {},
   "source": [
    "### Section 2.2, code block 2.3"
   ]
  },
  {
   "cell_type": "code",
   "execution_count": null,
   "metadata": {},
   "outputs": [],
   "source": [
    "# make the vector\n",
    "v = np.array([2,-1])\n",
    "\n",
    "# plot it\n",
    "plt.plot([0,v[0]],[0,v[1]])\n",
    "plt.axis('square')\n",
    "plt.axis([-3,3,-3,3])\n",
    "plt.grid('on')\n",
    "plt.show()"
   ]
  },
  {
   "cell_type": "markdown",
   "metadata": {},
   "source": [
    "### Section 2.2, code block 2.5"
   ]
  },
  {
   "cell_type": "code",
   "execution_count": null,
   "metadata": {},
   "outputs": [],
   "source": [
    "# list\n",
    "v1 = [2,5,4,7] \n",
    "\n",
    "# array, no orientation\n",
    "v2 = np.array([2,5,4,7])\n",
    "\n",
    "# col. vector\n",
    "v3 = np.array([ [2],[5],[4],[7] ])\n",
    "\n",
    "# row vector\n",
    "v4 = np.array([ [2,5,4,7] ]) "
   ]
  },
  {
   "cell_type": "markdown",
   "metadata": {},
   "source": [
    "### Section 2.3, code block 2.7"
   ]
  },
  {
   "cell_type": "code",
   "execution_count": null,
   "metadata": {},
   "outputs": [],
   "source": [
    "# row vector\n",
    "v1 = np.array([ [2,5,4,7] ]) \n",
    "\n",
    "# column vector\n",
    "v2 = v1.T "
   ]
  },
  {
   "cell_type": "markdown",
   "metadata": {},
   "source": [
    "### Section 2.5, code block 2.9"
   ]
  },
  {
   "cell_type": "code",
   "execution_count": null,
   "metadata": {},
   "outputs": [],
   "source": [
    "# two vectors\n",
    "v1 = np.array([2,5,4,7])\n",
    "v2 = np.array([4,1,0,2])\n",
    "\n",
    "# scalar-multiply and add\n",
    "v3 = 4*v1 - 2*v2"
   ]
  },
  {
   "cell_type": "markdown",
   "metadata": {},
   "source": [
    "### Section 2.9, code block 2.11"
   ]
  },
  {
   "cell_type": "code",
   "execution_count": null,
   "metadata": {},
   "outputs": [],
   "source": [
    "# vector\n",
    "v = np.array([1,2])\n",
    "\n",
    "# plot it\n",
    "plt.plot([0,v[0]],[0,v[1]])\n",
    "\n",
    "# and then plot scaled versions on top\n",
    "for i in range(10):\n",
    "    # random scalar\n",
    "    s = np.random.randn()\n",
    "    # scaled vector\n",
    "    sv = s*v\n",
    "    plt.plot([0,sv[0]],[0,sv[1]])\n",
    "    \n",
    "    \n",
    "plt.grid('on')\n",
    "plt.axis('square')\n",
    "plt.axis([-4,4,-4,4])\n",
    "plt.show()"
   ]
  }
 ],
 "metadata": {
  "kernelspec": {
   "display_name": "Python 3",
   "language": "python",
   "name": "python3"
  },
  "language_info": {
   "codemirror_mode": {
    "name": "ipython",
    "version": 3
   },
   "file_extension": ".py",
   "mimetype": "text/x-python",
   "name": "python",
   "nbconvert_exporter": "python",
   "pygments_lexer": "ipython3",
   "version": "3.7.4"
  }
 },
 "nbformat": 4,
 "nbformat_minor": 2
}
